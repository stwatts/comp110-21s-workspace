{
 "metadata": {
  "language_info": {
   "codemirror_mode": {
    "name": "ipython",
    "version": 3
   },
   "file_extension": ".py",
   "mimetype": "text/x-python",
   "name": "python",
   "nbconvert_exporter": "python",
   "pygments_lexer": "ipython3",
   "version": "3.9.1-final"
  },
  "orig_nbformat": 2,
  "kernelspec": {
   "name": "python3",
   "display_name": "Python 3.9.1 64-bit",
   "metadata": {
    "interpreter": {
     "hash": "1bb9512ae675bfb0e9364c564ee7492f1ad6721790ec017cd168d6eb10e48c99"
    }
   }
  }
 },
 "nbformat": 4,
 "nbformat_minor": 2,
 "cells": [
  {
   "cell_type": "code",
   "execution_count": 1,
   "metadata": {},
   "outputs": [
    {
     "output_type": "stream",
     "name": "stdout",
     "text": [
      "5\n"
     ]
    }
   ],
   "source": [
    "def april() -> None:\n",
    "  a: list[int] = [1]\n",
    "  b: list[int] = a\n",
    "  a = fools(b)\n",
    "  print(a[0] + b[0])\n",
    "\n",
    "def fools(a: list[int]) -> list[int]:\n",
    "  b: list[int] = a\n",
    "  a = [3]\n",
    "  b[0] = 2\n",
    "  return a\n",
    "\n",
    "april()"
   ]
  }
 ]
}